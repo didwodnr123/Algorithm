{
 "cells": [
  {
   "cell_type": "markdown",
   "metadata": {},
   "source": [
    "# Algorithm Basic Concept"
   ]
  },
  {
   "cell_type": "markdown",
   "metadata": {},
   "source": [
    "## Dynamic Programming\n",
    "\n",
    "- 중복되는 연산을 줄이자\n",
    "- 점화식 사용\n",
    "- Top down\n",
    "    - 하향식\n",
    "    - 큰 문제를 해결하기 위하여 작은 문제를 호출한다.\n",
    "    - Memozation: 결과값을 메모리에 저장시켜놓고 다음에 중복된 연산이 나오면 값을 꺼내어 사용.\n",
    "- Bottom up\n",
    "    - 상향식\n",
    "    - *DP의 전형적인 방식*\n",
    "    - 반복문을 이용하여 작은 문제부터 차근차근 도출한다.\n",
    "\n",
    "예시: 피보나치 수열\n",
    "점화식: $a_n = a_{n-1} + a_{n-2},\\quad a_1 = 1,\\quad a_2 = 1$"
   ]
  },
  {
   "cell_type": "code",
   "execution_count": 8,
   "metadata": {},
   "outputs": [
    {
     "name": "stdout",
     "output_type": "stream",
     "text": [
      "55\n",
      "55\n",
      "55\n"
     ]
    }
   ],
   "source": [
    "# General form\n",
    "def fibo_gf(x):\n",
    "    if x == 1 or x == 2:\n",
    "        return 1\n",
    "    return fibo_gf(x - 1) + fibo_gf(x - 2)\n",
    "\n",
    "print(fibo_gf(10))\n",
    "\n",
    "# Top-down\n",
    "def fibo_td(x):\n",
    "    d = [0] * 100\n",
    "    \n",
    "    if x == 1 or x == 2:\n",
    "        return 1\n",
    "    \n",
    "    if d[x] != 0:\n",
    "        return d[x]\n",
    "    \n",
    "    d[x] = fibo_td(x - 1) + fibo_td(x - 2)\n",
    "    \n",
    "    return d[x]\n",
    "\n",
    "print(fibo_td(10))\n",
    "\n",
    "# Bottom-up\n",
    "d = [0] * 100\n",
    "d[1] = 1\n",
    "d[2] = 1\n",
    "n = 10\n",
    "\n",
    "for i in range(3, n + 1):\n",
    "    d[i] = d[i - 1] + d[i - 2]\n",
    "    \n",
    "\n",
    "print(d[n])    \n"
   ]
  },
  {
   "cell_type": "code",
   "execution_count": 25,
   "metadata": {},
   "outputs": [
    {
     "name": "stdout",
     "output_type": "stream",
     "text": [
      "3\n"
     ]
    }
   ],
   "source": [
    "x = 26\n",
    "dp = [0] * 30001\n",
    "\n",
    "for i in range(2, x + 1):\n",
    "    dp[i] = dp[i - 1] + 1\n",
    "    \n",
    "    if dp[i] % 2 == 0:\n",
    "        dp[i] = min(dp[i], dp[i // 2] + 1)\n",
    "    \n",
    "    elif dp[i] % 3 == 0:\n",
    "        dp[i] = min(dp[i], dp[i // 3] + 1)\n",
    "    \n",
    "    elif dp[i] % 5 == 0:\n",
    "        dp[i] = min(dp[i], dp[i // 5] + 1)\n",
    "\n",
    "print(dp[x])"
   ]
  },
  {
   "cell_type": "code",
   "execution_count": 27,
   "metadata": {},
   "outputs": [
    {
     "name": "stdout",
     "output_type": "stream",
     "text": [
      "6\n"
     ]
    }
   ],
   "source": [
    "'''\n",
    "개미전사\n",
    "input\n",
    "4\n",
    "1 3 1 5\n",
    "\n",
    "output\n",
    "8\n",
    "'''\n",
    "n = int(input())\n",
    "lst = list(map(int, input().split()))\n",
    "\n",
    "d = [0] * 100\n",
    "\n",
    "d[0] = lst[0]\n",
    "d[1] = max(lst[0], lst[1])\n",
    "for i in range(2, n):\n",
    "    d[i] = max(d[i - 1], d[i - 2] + lst[i])\n",
    "\n",
    "print(d[n-1])"
   ]
  },
  {
   "cell_type": "code",
   "execution_count": 29,
   "metadata": {},
   "outputs": [
    {
     "name": "stdout",
     "output_type": "stream",
     "text": [
      "[0, 1, 1, 2, 3, 5, 8, 13, 21, 34, 55]\n"
     ]
    }
   ],
   "source": [
    "n = int(input())\n",
    "dp = [0] * 11\n",
    "dp[1] = 1\n",
    "dp[2] = 1\n",
    "\n",
    "for i in range(3, n + 1):\n",
    "    dp[i] = dp[i - 1] + dp[i - 2]\n",
    "    \n",
    "print(dp)"
   ]
  },
  {
   "cell_type": "code",
   "execution_count": 30,
   "metadata": {},
   "outputs": [
    {
     "name": "stdout",
     "output_type": "stream",
     "text": [
      "3\n"
     ]
    }
   ],
   "source": [
    "dp = [0] * 30001\n",
    "n = int(input())\n",
    "dp[1] = 0\n",
    "dp[2] = 1\n",
    "for i in range(3, n + 1):\n",
    "    dp[i] = dp[i - 1] + 1\n",
    "    if dp[i] % 2 == 0:\n",
    "        dp[i] = min(dp[i], dp[i // 2] + 1)\n",
    "    elif dp[i] % 3 == 0:\n",
    "        dp[i] = min(dp[i], dp[i // 3] + 1)\n",
    "    elif dp[i] % 5 == 0:\n",
    "        dp[i] = min(dp[i], dp[i // 5] + 1)\n",
    "\n",
    "print(dp[n])"
   ]
  },
  {
   "cell_type": "code",
   "execution_count": 36,
   "metadata": {},
   "outputs": [
    {
     "name": "stdout",
     "output_type": "stream",
     "text": [
      "[1, 3, 6, 6, 15, 15]\n",
      "15\n"
     ]
    }
   ],
   "source": [
    "n = 6\n",
    "arr = [1, 3, 5, 1, 9, 3]\n",
    "\n",
    "dp = [0] * 101\n",
    "dp[0] = 1\n",
    "dp[1] = 3\n",
    "\n",
    "for i in range(2, n):\n",
    "    dp[i] = max(dp[i-1], dp[i-2] + arr[i])\n",
    "\n",
    "print(dp[:n])\n",
    "print(dp[n-1])"
   ]
  },
  {
   "cell_type": "code",
   "execution_count": null,
   "metadata": {},
   "outputs": [],
   "source": [
    "n = 3\n",
    "dp = [0] * 1001\n",
    "dp[1] = 1\n",
    "dp[2] = 3\n",
    "\n",
    "for i in range(3, n + 1):\n",
    "    dp[i] = dp[]"
   ]
  }
 ],
 "metadata": {
  "interpreter": {
   "hash": "397704579725e15f5c7cb49fe5f0341eb7531c82d19f2c29d197e8b64ab5776b"
  },
  "kernelspec": {
   "display_name": "Python 3.9.9 64-bit",
   "language": "python",
   "name": "python3"
  },
  "language_info": {
   "codemirror_mode": {
    "name": "ipython",
    "version": 3
   },
   "file_extension": ".py",
   "mimetype": "text/x-python",
   "name": "python",
   "nbconvert_exporter": "python",
   "pygments_lexer": "ipython3",
   "version": "3.9.9"
  },
  "orig_nbformat": 4
 },
 "nbformat": 4,
 "nbformat_minor": 2
}
